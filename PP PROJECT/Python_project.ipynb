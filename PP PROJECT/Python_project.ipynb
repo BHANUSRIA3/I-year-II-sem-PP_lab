{
  "cells": [
    {
      "cell_type": "code",
      "source": [
        "import string\n",
        "import getpass\n",
        "\n",
        "def check_password_strength():\n",
        "    password = getpass.getpass('Enter the password: ')\n",
        "    strength = 0\n",
        "    remarks = ''\n",
        "    lower_count = upper_count = num_count = wspace_count = special_count = 0\n",
        "\n",
        "    for char in list(password):\n",
        "        if char in string.ascii_lowercase:\n",
        "            lower_count += 1\n",
        "        elif char in string.ascii_uppercase:\n",
        "            upper_count += 1\n",
        "        elif char in string.digits:\n",
        "            num_count += 1\n",
        "        elif char == ' ':\n",
        "            wspace_count += 1\n",
        "        else:\n",
        "            special_count += 1\n",
        "\n",
        "    if lower_count >= 1:\n",
        "        strength += 1\n",
        "    if upper_count >= 1:\n",
        "        strength += 1\n",
        "    if num_count >= 1:\n",
        "        strength += 1\n",
        "    if wspace_count >= 1:\n",
        "        strength += 1\n",
        "    if special_count >= 1:\n",
        "        strength += 1\n",
        "    if strength == 1:\n",
        "        remarks = ('That\\'s a very bad password. Change it as soon as possible.')\n",
        "    elif strength == 2:\n",
        "        remarks = ('That\\'s a weak password. You should consider using a tougher password.')\n",
        "    elif strength == 3:\n",
        "        remarks = 'Your password is okay, but it can be improved.'\n",
        "    elif strength == 4:\n",
        "        remarks = ('Your password is hard to guess. But you could make it even more secure.')\n",
        "    elif strength == 5:\n",
        "        remarks = ('Now that\\'s one hell of a strong password!!! Hackers dont have a chance guessing that password!')\n",
        "\n",
        "    print('Your password has:-')\n",
        "    print(f'{lower_count} lowercase letters')\n",
        "    print(f'{upper_count} uppercase letters')\n",
        "    print(f'{num_count} digits')\n",
        "    print(f'{wspace_count} whitespaces')\n",
        "    print(f'{special_count} special characters')\n",
        "    print(f'Password Score: {strength / 5}')\n",
        "    print(f'Remarks: {remarks}')\n",
        "    return remarks\n",
        "\n",
        "def check_pwd(another_pw=False):\n",
        "    while True:\n",
        "        choice = input('Do you want to check your password\\'s strength (y/n): ')\n",
        "        if choice.lower() == 'y':\n",
        "            return True\n",
        "        elif choice.lower() == 'n':\n",
        "            print('Exiting...')\n",
        "            return False\n",
        "        else:\n",
        "            print('Invalid input...please try again.')\n",
        "\n",
        "if __name__ == '__main__':\n",
        "    print('===== Welcome to Password Strength Checker =====')\n",
        "    check_pw = check_pwd()\n",
        "    while check_pw:\n",
        "        remarks = check_password_strength()\n",
        "        if 'Now that\\'s one hell of a strong password!!! Hackers dont have a chance guessing that password!' in remarks:\n",
        "            break\n",
        "        check_pw = check_pwd(True)\n"
      ],
      "metadata": {
        "colab": {
          "base_uri": "https://localhost:8080/"
        },
        "id": "idfX_4Neb-ty",
        "outputId": "eeb281c7-eecd-4700-b0fd-5f43f466fc62"
      },
      "execution_count": 7,
      "outputs": [
        {
          "output_type": "stream",
          "name": "stdout",
          "text": [
            "===== Welcome to Password Strength Checker =====\n",
            "Do you want to check your password's strength (y/n): y\n",
            "Enter the password: ··········\n",
            "Your password has:-\n",
            "5 lowercase letters\n",
            "0 uppercase letters\n",
            "2 digits\n",
            "1 whitespaces\n",
            "1 special characters\n",
            "Password Score: 0.8\n",
            "Remarks: Your password is hard to guess. But you could make it even more secure.\n",
            "Do you want to check your password's strength (y/n): BHANUsri@!_   1771696\n",
            "Invalid input...please try again.\n",
            "Do you want to check your password's strength (y/n): y\n",
            "Enter the password: ··········\n",
            "Your password has:-\n",
            "3 lowercase letters\n",
            "5 uppercase letters\n",
            "7 digits\n",
            "3 whitespaces\n",
            "3 special characters\n",
            "Password Score: 1.0\n",
            "Remarks: Now that's one hell of a strong password!!! Hackers dont have a chance guessing that password!\n"
          ]
        }
      ]
    }
  ],
  "metadata": {
    "colab": {
      "provenance": []
    },
    "kernelspec": {
      "display_name": "Python 3",
      "name": "python3"
    },
    "language_info": {
      "name": "python"
    }
  },
  "nbformat": 4,
  "nbformat_minor": 0
}